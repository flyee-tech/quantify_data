{
 "cells": [
  {
   "cell_type": "markdown",
   "metadata": {},
   "source": [
    "# 量化单词量\n",
    "\n",
    "> 通过 `matplotlib` 来体现单词量的增长趋势\n",
    "\n",
    "- 频率：每个星期五来进行一次测试添加到表格中"
   ]
  },
  {
   "cell_type": "code",
   "execution_count": null,
   "metadata": {
    "scrolled": true
   },
   "outputs": [],
   "source": [
    "# -*- coding: utf-8 -*-\n",
    "import matplotlib.pyplot as plt\n",
    "import pandas as pd\n",
    "\n",
    "df = pd.read_excel('/Users/peiel/PycharmProjects/quantify_data/vocabulary.xlsx')\n",
    "\n",
    "x = list(map(lambda x: x.strftime('%Y-%m-%d'), list((df['单词量统计'][1:]))))\n",
    "y = list((df['Unnamed: 1'][1:]))\n",
    "ax = plt.gca()\n",
    "ax.spines['right'].set_color('none')\n",
    "ax.spines['top'].set_color('none')\n",
    "\n",
    "plt.figure(num=1)\n",
    "plt.plot(x, y)\n",
    "\n",
    "plt.ylabel(u'Vocabulary')\n",
    "\n",
    "# plt.gca()\n",
    "# 设置数字标签\n",
    "for a, b in zip(x, y):\n",
    "    plt.text(a, b, b, ha='center', va='bottom', fontsize=10)\n",
    "\n",
    "plt.show()\n"
   ]
  },
  {
   "cell_type": "code",
   "execution_count": null,
   "metadata": {},
   "outputs": [],
   "source": []
  },
  {
   "cell_type": "code",
   "execution_count": null,
   "metadata": {},
   "outputs": [],
   "source": []
  },
  {
   "cell_type": "code",
   "execution_count": null,
   "metadata": {},
   "outputs": [],
   "source": []
  }
 ],
 "metadata": {
  "kernelspec": {
   "display_name": "Python 3",
   "language": "python",
   "name": "python3"
  },
  "language_info": {
   "codemirror_mode": {
    "name": "ipython",
    "version": 3
   },
   "file_extension": ".py",
   "mimetype": "text/x-python",
   "name": "python",
   "nbconvert_exporter": "python",
   "pygments_lexer": "ipython3",
   "version": "3.8.0"
  }
 },
 "nbformat": 4,
 "nbformat_minor": 2
}
